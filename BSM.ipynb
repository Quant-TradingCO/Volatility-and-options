{
 "cells": [
  {
   "cell_type": "markdown",
   "metadata": {},
   "source": [
    "![This is an image](Quant-Trading.jpg)"
   ]
  },
  {
   "cell_type": "code",
   "execution_count": 1,
   "metadata": {},
   "outputs": [],
   "source": [
    "from scipy.stats import norm\n",
    "import numpy as np\n",
    "\n",
    "def bsformula(callput, S0, K, r, T, sigma, q=0):\n",
    "\n",
    "    #Changing possible integers to float\n",
    "    S0 = float(S0)\n",
    "    K = float(K)\n",
    "    r = float(r)\n",
    "    T = float(T)\n",
    "    sigma = float(sigma)\n",
    "\n",
    "\n",
    "    d1 = (np.log(S0 / K) + (r -q + sigma**2 / 2) * T) / (sigma * T**0.5)\n",
    "    d2 = d1 - sigma * T**0.5\n",
    "    nd1_prime = 1/(((2*np.pi)**0.5)*(np.exp((d1**2)/2)))\n",
    "\n",
    "    if callput == 'call':\n",
    "        nd1 = norm.cdf(d1, )\n",
    "        nd2 = norm.cdf(d2, )        \n",
    "        optionValue = S0 * np.exp(-q*T) * nd1 - K * np.exp(-r * T) * nd2 \n",
    "        delta = nd1*np.exp(-q*T)       \n",
    "\n",
    "    elif callput == 'put':\n",
    "        nd1 = norm.cdf(-d1, )\n",
    "        nd2 = norm.cdf(-d2, )        \n",
    "        optionValue = -S0 *np.exp(-q*T) *  nd1 + K * np.exp(-r * T) * nd2\n",
    "        delta = -nd1*np.exp(-q*T)\n",
    "\n",
    "    else:\n",
    "        raise Exception (\"You can just imput [call] or [put] in the first parameter\")\n",
    "\n",
    "    vega =  S0*(T**0.5)*nd1_prime*np.exp(-q*T)\n",
    "    return optionValue, delta, vega\n",
    "\n",
    "################################################################################################################################################################\n"
   ]
  },
  {
   "cell_type": "code",
   "execution_count": 3,
   "metadata": {},
   "outputs": [
    {
     "name": "stdout",
     "output_type": "stream",
     "text": [
      "(0.06762706064819568, 0.010496072668418194, 4.102410052768768)\n",
      "(0.9857663011005933, -0.059995530822910266, 17.576767072025014)\n"
     ]
    }
   ],
   "source": [
    "print(bsformula('call', 425, 475, 0.05, 44/365, 0.13, q=0))\n",
    "print(bsformula('put', 425, 375, 0.05, 44/365, 0.25, q=0))\n"
   ]
  },
  {
   "cell_type": "markdown",
   "metadata": {},
   "source": [
    "If this content is helpful and you want to make a donation please click on the button\n",
    "\n",
    "[![paypal](https://www.paypalobjects.com/en_US/i/btn/btn_donateCC_LG.gif)](https://www.paypal.com/cgi-bin/webscr?cmd=_s-xclick&hosted_button_id=29CVY97MEQ9BY)"
   ]
  }
 ],
 "metadata": {
  "kernelspec": {
   "display_name": "Python 3 (ipykernel)",
   "language": "python",
   "name": "python3"
  },
  "language_info": {
   "codemirror_mode": {
    "name": "ipython",
    "version": 3
   },
   "file_extension": ".py",
   "mimetype": "text/x-python",
   "name": "python",
   "nbconvert_exporter": "python",
   "pygments_lexer": "ipython3",
   "version": "3.9.12"
  }
 },
 "nbformat": 4,
 "nbformat_minor": 2
}
