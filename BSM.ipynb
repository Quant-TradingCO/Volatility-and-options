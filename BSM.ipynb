{
 "cells": [
  {
   "cell_type": "markdown",
   "metadata": {},
   "source": [
    "![This is an image](Quant-Trading.jpg)"
   ]
  },
  {
   "cell_type": "markdown",
   "metadata": {},
   "source": [
    "<font size=\"3\">\n",
    "Please visit our website <a href=\"https://www.quant-trading.co\" target=\"_blank\">quant-trading.co</a> for more tools on quantitative finance and data science.\n",
    "</font>"
   ]
  },
  {
   "cell_type": "markdown",
   "metadata": {},
   "source": [
    "# **BLACK SCHOLES MERTON FORMULA IN PYTHON**\n",
    "\n",
    "## **¿What is this Black Scholes equation?**\n",
    "\n",
    "<font size=\"3\"> The Black-Scholes-Merton formula, sometimes just called the Black-Scholes formula, estimates the prices of call and put options. Originally, it priced European options and was the first widely adopted mathematical formula for pricing options. Some credit this model for the significant increase in options trading, and name it a significant influence in modern financial pricing. In 1973  Fisher Black and Miron Scholes published the paper: \"The Pricing of Options and Corporate Liabilities” where they came to the following equation.<br><br>"
   ]
  },
  {
   "cell_type": "markdown",
   "metadata": {},
   "source": [
    "<font size=\"5\"> \n",
    "\n",
    "$C$ = $S$ * $\\mathrm{e}^{-qT}$ * $N(d_1)$ + $K$ * $\\mathrm{e}^{-rT}$ * $N(d_2)$\n",
    "\n",
    "<br>"
   ]
  },
  {
   "cell_type": "markdown",
   "metadata": {},
   "source": [
    "<font size=\"3\"> where"
   ]
  },
  {
   "cell_type": "markdown",
   "metadata": {},
   "source": [
    "<font size=\"5\"> \n",
    "\n",
    "$d_1$ = $\\frac{\\mathrm{ln}\\frac{S}{K} + (r-q+ \\sigma^2)}{\\sigma \\sqrt {T}}$\n",
    "\n",
    "<br>"
   ]
  },
  {
   "cell_type": "markdown",
   "metadata": {},
   "source": [
    "<font size=\"3\"> and"
   ]
  },
  {
   "cell_type": "markdown",
   "metadata": {},
   "source": [
    "<font size=\"5\"> \n",
    "\n",
    "$d_2$ = $d_1$ - $\\sigma$ $\\ sqrt{T}$\n",
    "<br>"
   ]
  },
  {
   "cell_type": "code",
   "execution_count": 4,
   "metadata": {},
   "outputs": [],
   "source": [
    "import warnings\n",
    "warnings.filterwarnings('ignore')\n",
    "\n",
    "from scipy.stats import norm\n",
    "import numpy as np"
   ]
  },
  {
   "cell_type": "markdown",
   "metadata": {},
   "source": [
    "## **Import the required libraries and initialize the parameters for the Black Scholes Equation**\n",
    "\n",
    "<font size=\"3\"> To make these calculation we need to work with the numpy library and we also need to import the norm function from the scipy.stats library. The parameters we are working with are: a) The spot price of the asset, b) The strike price, c) The interest rate, d) The dividend rate, e) The time to maturity of the option, f) The annualized volatility of the option. Let's work with the following assumptions: The spot is trading at 100 and we need to price a Call with strike 110. Since the interest rate is 5% and the dividend rate is 2%, this options is \"Out of the Money\". The maturity of the options is 1 year and the volatility is 20%. <br><br>"
   ]
  },
  {
   "cell_type": "code",
   "execution_count": 6,
   "metadata": {},
   "outputs": [],
   "source": [
    "S0 = 100\n",
    "K = 110\n",
    "r = 0.05\n",
    "q = 0.02\n",
    "T = 1\n",
    "sigma = 0.2"
   ]
  },
  {
   "cell_type": "code",
   "execution_count": 7,
   "metadata": {},
   "outputs": [
    {
     "name": "stdout",
     "output_type": "stream",
     "text": [
      "5.18858175378017\n"
     ]
    }
   ],
   "source": [
    "d1 = (np.log(S0 / K) + (r -q + sigma**2 / 2) * T) / (sigma * T**0.5)\n",
    "d2 = d1 - sigma * T**0.5\n",
    "\n",
    "nd1 = norm.cdf(d1, )\n",
    "nd2 = norm.cdf(d2, )        \n",
    "\n",
    "optionValue = S0 * np.exp(-q*T) * nd1 - K * np.exp(-r * T) * nd2 \n",
    "\n",
    "print(optionValue)"
   ]
  },
  {
   "cell_type": "markdown",
   "metadata": {},
   "source": [
    "## **Automate these calculations into a python function**\n",
    "\n",
    "<font size=\"3\"> We can make a python function and automate these calculations. In the function below you can observe that we also put the price of a put, and some calculations for the delta and vega of an option. Delta and Vega are part of the known Greek Letters for option prices and they indicate the sensitivity of the option's price when some parameters change. Delta, shows the change in the price of the options when the spot moves in 1 unit, whereas vega shows how much the price of the option changes when volatility moves up in 1%. If you would like to understand how to deduce the Black Scholes formula, please look at the following <a href=\"https://quant-trading.co/black-scholes-formula-in-python/\" target=\"_blank\">link</a> <br><br>"
   ]
  },
  {
   "cell_type": "code",
   "execution_count": 1,
   "metadata": {},
   "outputs": [],
   "source": [
    "def bsformula(callput, S0, K, r, T, sigma, q=0):\n",
    "\n",
    "    #Changing possible integers to float\n",
    "    S0 = float(S0)\n",
    "    K = float(K)\n",
    "    r = float(r)\n",
    "    T = float(T)\n",
    "    sigma = float(sigma)\n",
    "\n",
    "\n",
    "    d1 = (np.log(S0 / K) + (r -q + sigma**2 / 2) * T) / (sigma * T**0.5)\n",
    "    d2 = d1 - sigma * T**0.5\n",
    "    nd1_prime = 1/(((2*np.pi)**0.5)*(np.exp((d1**2)/2)))\n",
    "\n",
    "    if callput == 'call':\n",
    "        nd1 = norm.cdf(d1, )\n",
    "        nd2 = norm.cdf(d2, )        \n",
    "        optionValue = S0 * np.exp(-q*T) * nd1 - K * np.exp(-r * T) * nd2 \n",
    "        delta = nd1*np.exp(-q*T)       \n",
    "\n",
    "    elif callput == 'put':\n",
    "        nd1 = norm.cdf(-d1, )\n",
    "        nd2 = norm.cdf(-d2, )        \n",
    "        optionValue = -S0 *np.exp(-q*T) *  nd1 + K * np.exp(-r * T) * nd2\n",
    "        delta = -nd1*np.exp(-q*T)\n",
    "\n",
    "    else:\n",
    "        raise Exception (\"You can just input [call] or [put] in the first parameter\")\n",
    "\n",
    "    vega =  S0*(T**0.5)*nd1_prime*np.exp(-q*T)\n",
    "    return optionValue, delta, vega\n",
    "\n",
    "################################################################################################################################################################\n"
   ]
  },
  {
   "cell_type": "code",
   "execution_count": 3,
   "metadata": {},
   "outputs": [
    {
     "name": "stdout",
     "output_type": "stream",
     "text": [
      "(0.06762706064819568, 0.010496072668418194, 4.102410052768768)\n",
      "(0.9857663011005933, -0.059995530822910266, 17.576767072025014)\n"
     ]
    }
   ],
   "source": [
    "print(bsformula('call', 425, 475, 0.05, 44/365, 0.13, q=0))\n",
    "print(bsformula('put', 425, 375, 0.05, 44/365, 0.25, q=0))\n"
   ]
  },
  {
   "cell_type": "markdown",
   "metadata": {},
   "source": [
    "<font size=\"3\"> If this content is helpful and you want to make a donation please click on the button\n",
    "\n",
    "[![paypal](https://www.paypalobjects.com/en_US/i/btn/btn_donateCC_LG.gif)](https://www.paypal.com/cgi-bin/webscr?cmd=_s-xclick&hosted_button_id=29CVY97MEQ9BY)"
   ]
  }
 ],
 "metadata": {
  "kernelspec": {
   "display_name": "Python 3 (ipykernel)",
   "language": "python",
   "name": "python3"
  },
  "language_info": {
   "codemirror_mode": {
    "name": "ipython",
    "version": 3
   },
   "file_extension": ".py",
   "mimetype": "text/x-python",
   "name": "python",
   "nbconvert_exporter": "python",
   "pygments_lexer": "ipython3",
   "version": "3.9.12"
  }
 },
 "nbformat": 4,
 "nbformat_minor": 2
}
